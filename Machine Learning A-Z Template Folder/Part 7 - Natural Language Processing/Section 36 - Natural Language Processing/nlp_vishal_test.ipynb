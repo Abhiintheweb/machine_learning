{
 "cells": [
  {
   "cell_type": "code",
   "execution_count": 3,
   "metadata": {},
   "outputs": [],
   "source": [
    "import numpy as np\n",
    "import pandas as pd\n",
    "import matplotlib.pyplot as plt\n",
    "import re\n",
    "import nltk"
   ]
  },
  {
   "cell_type": "code",
   "execution_count": 53,
   "metadata": {},
   "outputs": [
    {
     "name": "stderr",
     "output_type": "stream",
     "text": [
      "Skipping line 9: expected 1 fields, saw 2\n",
      "Skipping line 10: expected 1 fields, saw 2\n",
      "Skipping line 14: expected 1 fields, saw 2\n",
      "Skipping line 19: expected 1 fields, saw 2\n",
      "Skipping line 21: expected 1 fields, saw 2\n",
      "Skipping line 25: expected 1 fields, saw 2\n",
      "Skipping line 26: expected 1 fields, saw 2\n",
      "Skipping line 27: expected 1 fields, saw 2\n",
      "Skipping line 28: expected 1 fields, saw 2\n",
      "Skipping line 31: expected 1 fields, saw 2\n",
      "Skipping line 33: expected 1 fields, saw 2\n",
      "Skipping line 35: expected 1 fields, saw 2\n",
      "Skipping line 36: expected 1 fields, saw 2\n",
      "Skipping line 37: expected 1 fields, saw 2\n",
      "Skipping line 38: expected 1 fields, saw 2\n",
      "Skipping line 39: expected 1 fields, saw 2\n",
      "Skipping line 40: expected 1 fields, saw 2\n",
      "Skipping line 41: expected 1 fields, saw 2\n",
      "Skipping line 42: expected 1 fields, saw 2\n",
      "Skipping line 114: expected 1 fields, saw 2\n",
      "Skipping line 271: expected 1 fields, saw 2\n",
      "Skipping line 310: expected 1 fields, saw 2\n",
      "Skipping line 311: expected 1 fields, saw 2\n",
      "Skipping line 312: expected 1 fields, saw 2\n",
      "Skipping line 313: expected 1 fields, saw 2\n",
      "\n",
      "Skipping line 9: expected 1 fields, saw 2\n",
      "Skipping line 10: expected 1 fields, saw 2\n",
      "Skipping line 11: expected 1 fields, saw 2\n",
      "Skipping line 12: expected 1 fields, saw 2\n",
      "Skipping line 13: expected 1 fields, saw 2\n",
      "Skipping line 14: expected 1 fields, saw 2\n",
      "Skipping line 15: expected 1 fields, saw 2\n",
      "Skipping line 16: expected 1 fields, saw 2\n",
      "Skipping line 145: expected 1 fields, saw 3\n",
      "Skipping line 146: expected 1 fields, saw 3\n",
      "Skipping line 147: expected 1 fields, saw 3\n",
      "Skipping line 148: expected 1 fields, saw 3\n",
      "Skipping line 149: expected 1 fields, saw 3\n",
      "Skipping line 150: expected 1 fields, saw 3\n",
      "Skipping line 151: expected 1 fields, saw 3\n",
      "Skipping line 152: expected 1 fields, saw 3\n",
      "Skipping line 153: expected 1 fields, saw 3\n",
      "Skipping line 154: expected 1 fields, saw 3\n",
      "Skipping line 155: expected 1 fields, saw 3\n",
      "Skipping line 156: expected 1 fields, saw 3\n",
      "Skipping line 192: expected 1 fields, saw 2\n",
      "Skipping line 193: expected 1 fields, saw 2\n",
      "Skipping line 194: expected 1 fields, saw 2\n",
      "Skipping line 195: expected 1 fields, saw 2\n",
      "Skipping line 196: expected 1 fields, saw 2\n",
      "Skipping line 197: expected 1 fields, saw 2\n",
      "Skipping line 198: expected 1 fields, saw 2\n",
      "Skipping line 199: expected 1 fields, saw 2\n",
      "Skipping line 200: expected 1 fields, saw 2\n",
      "Skipping line 201: expected 1 fields, saw 2\n",
      "Skipping line 202: expected 1 fields, saw 2\n",
      "Skipping line 203: expected 1 fields, saw 2\n",
      "Skipping line 204: expected 1 fields, saw 2\n",
      "Skipping line 205: expected 1 fields, saw 2\n",
      "Skipping line 206: expected 1 fields, saw 2\n",
      "Skipping line 207: expected 1 fields, saw 2\n",
      "Skipping line 208: expected 1 fields, saw 2\n",
      "Skipping line 209: expected 1 fields, saw 2\n",
      "Skipping line 210: expected 1 fields, saw 2\n",
      "Skipping line 211: expected 1 fields, saw 2\n",
      "Skipping line 212: expected 1 fields, saw 2\n",
      "Skipping line 213: expected 1 fields, saw 2\n",
      "Skipping line 214: expected 1 fields, saw 2\n",
      "Skipping line 215: expected 1 fields, saw 2\n",
      "Skipping line 216: expected 1 fields, saw 2\n",
      "Skipping line 217: expected 1 fields, saw 2\n",
      "Skipping line 218: expected 1 fields, saw 2\n",
      "Skipping line 219: expected 1 fields, saw 2\n",
      "\n"
     ]
    }
   ],
   "source": [
    "dataset_apple_compney=pd.read_csv(\"apple.tsv\",delimiter=\"\\t\",quoting=3, error_bad_lines=False)\n",
    "\n",
    "dataset_apple_fruit=pd.read_csv(\"apple_fruit.tsv\",delimiter=\"\\t\",quoting=3, error_bad_lines=False)\n",
    "# from nltk.corpus import  stopwords \n",
    "# from nltk.stem.porter import PorterStemmer\n",
    "# for i in dataset_apple_fruit.iteritems():\n",
    "#     print i\n",
    "\n",
    "dataset_apple_fruit=dataset_apple_fruit.iloc[:,0].values\n",
    "dataset_apple_compney=dataset_apple_compney.iloc[:,0].values\n"
   ]
  },
  {
   "cell_type": "code",
   "execution_count": 54,
   "metadata": {},
   "outputs": [],
   "source": [
    "from nltk.corpus import stopwords\n",
    "from nltk.stem.porter import PorterStemmer\n"
   ]
  },
  {
   "cell_type": "code",
   "execution_count": 72,
   "metadata": {},
   "outputs": [],
   "source": [
    "dataset=[]\n",
    "label=[]\n",
    "for i in dataset_apple_compney:\n",
    "    data=re.sub('[^a-zA-Z]',\" \",i)\n",
    "    data=data.lower()\n",
    "    ps=PorterStemmer()\n",
    "    clean_data=[ps.stem(word) for word in data.split() if not  word in  set(stopwords.words(\"english\"))]\n",
    "    clean_data= \" \".join(clean_data)\n",
    "    label.append(0)\n",
    "    dataset.append(clean_data)\n",
    "    \n",
    "for i in dataset_apple_fruit:\n",
    "    data=re.sub('[^a-zA-Z]',\" \",i)\n",
    "    data=data.lower()\n",
    "    ps=PorterStemmer()\n",
    "    clean_data=[ps.stem(word) for word in data.split() if not  word in  set(stopwords.words(\"english\"))]\n",
    "    clean_data= \" \".join(clean_data)\n",
    "    label.append(1)\n",
    "    dataset.append(clean_data)\n",
    "# print len(label),len(dataset)"
   ]
  },
  {
   "cell_type": "code",
   "execution_count": 74,
   "metadata": {},
   "outputs": [],
   "source": [
    "from sklearn.feature_extraction.text import CountVectorizer \n",
    "cv = CountVectorizer(max_features=1500)\n",
    "X=cv.fit_transform(dataset).toarray()\n",
    "y=np.array(label)\n"
   ]
  },
  {
   "cell_type": "code",
   "execution_count": 87,
   "metadata": {},
   "outputs": [
    {
     "data": {
      "text/plain": [
       "array([[68, 10],\n",
       "       [ 4, 37]])"
      ]
     },
     "execution_count": 87,
     "metadata": {},
     "output_type": "execute_result"
    }
   ],
   "source": [
    "from sklearn.cross_validation import train_test_split\n",
    "X_train,X_test,y_train,y_test = train_test_split(X,y,test_size=0.3,random_state=0)\n",
    "\n",
    "from sklearn.naive_bayes import GaussianNB\n",
    "\n",
    "classifier=GaussianNB()\n",
    "classifier.fit(X_train,y_train)\n",
    "\n",
    "y_predict=classifier.predict(X_test)\n",
    "\n",
    "from sklearn.metrics import confusion_matrix\n",
    "\n",
    "cm=confusion_matrix(y_test,y_predict)\n",
    "cm\n",
    "\n",
    "\n"
   ]
  }
 ],
 "metadata": {
  "kernelspec": {
   "display_name": "Python 2",
   "language": "python",
   "name": "python2"
  },
  "language_info": {
   "codemirror_mode": {
    "name": "ipython",
    "version": 2
   },
   "file_extension": ".py",
   "mimetype": "text/x-python",
   "name": "python",
   "nbconvert_exporter": "python",
   "pygments_lexer": "ipython2",
   "version": "2.7.10"
  }
 },
 "nbformat": 4,
 "nbformat_minor": 2
}
