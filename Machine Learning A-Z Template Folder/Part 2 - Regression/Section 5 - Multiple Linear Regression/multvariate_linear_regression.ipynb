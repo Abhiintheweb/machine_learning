{
 "cells": [
  {
   "cell_type": "code",
   "execution_count": 17,
   "metadata": {},
   "outputs": [],
   "source": [
    "from sklearn.preprocessing import Imputer,LabelEncoder,OneHotEncoder\n",
    "from sklearn import linear_model\n",
    "import numpy as np\n",
    "import pandas as pd\n",
    "import matplotlib.pyplot as plt\n",
    "from sklearn.cross_validation import train_test_split"
   ]
  },
  {
   "cell_type": "code",
   "execution_count": 32,
   "metadata": {},
   "outputs": [
    {
     "data": {
      "text/plain": [
       "array([[  0.00000000e+00,   0.00000000e+00,   0.00000000e+00, ...,\n",
       "          1.36897800e+05,   4.71784100e+05,   2.00000000e+00],\n",
       "       [  0.00000000e+00,   0.00000000e+00,   0.00000000e+00, ...,\n",
       "          1.51377590e+05,   4.43898530e+05,   0.00000000e+00],\n",
       "       [  0.00000000e+00,   0.00000000e+00,   0.00000000e+00, ...,\n",
       "          1.01145550e+05,   4.07934540e+05,   1.00000000e+00],\n",
       "       ..., \n",
       "       [  1.00000000e+00,   0.00000000e+00,   0.00000000e+00, ...,\n",
       "          1.35426920e+05,   0.00000000e+00,   0.00000000e+00],\n",
       "       [  0.00000000e+00,   1.00000000e+00,   0.00000000e+00, ...,\n",
       "          5.17431500e+04,   0.00000000e+00,   2.00000000e+00],\n",
       "       [  1.00000000e+00,   0.00000000e+00,   0.00000000e+00, ...,\n",
       "          1.16983800e+05,   4.51730600e+04,   0.00000000e+00]])"
      ]
     },
     "execution_count": 32,
     "metadata": {},
     "output_type": "execute_result"
    }
   ],
   "source": [
    "data=pd.read_csv(\"50_Startups.csv\")\n",
    "X=data.iloc[:,:-1].values\n",
    "y=data.iloc[:,4].values\n",
    "\n",
    "label_encoder=LabelEncoder()\n",
    "X[:,3]=label_encoder.fit_transform(X[:,3])\n",
    "onehotencoder=OneHotEncoder(categorical_features=[0])\n",
    "onehotencoder.fit_transform(X).toarray()"
   ]
  }
 ],
 "metadata": {
  "kernelspec": {
   "display_name": "Python 2",
   "language": "python",
   "name": "python2"
  },
  "language_info": {
   "codemirror_mode": {
    "name": "ipython",
    "version": 2
   },
   "file_extension": ".py",
   "mimetype": "text/x-python",
   "name": "python",
   "nbconvert_exporter": "python",
   "pygments_lexer": "ipython2",
   "version": "2.7.10"
  }
 },
 "nbformat": 4,
 "nbformat_minor": 2
}
